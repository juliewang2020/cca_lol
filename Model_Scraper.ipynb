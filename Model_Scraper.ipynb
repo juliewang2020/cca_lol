{
 "cells": [
  {
   "cell_type": "code",
   "execution_count": 614,
   "metadata": {},
   "outputs": [],
   "source": [
    "# Important References Used for this Code\n",
    "# http://automatetheboringstuff.com/chapter11/ \n",
    "# https://stackoverflow.com/questions/3368969/find-string-between-two-substrings"
   ]
  },
  {
   "cell_type": "markdown",
   "metadata": {},
   "source": [
    "## Packages"
   ]
  },
  {
   "cell_type": "code",
   "execution_count": 616,
   "metadata": {},
   "outputs": [],
   "source": [
    "import webbrowser # package to open web browser pages\n",
    "import bs4 # used to parse website data\n",
    "import requests # used to pull source code\n",
    "import re # used for string parsing/matching"
   ]
  },
  {
   "cell_type": "markdown",
   "metadata": {},
   "source": [
    "## Scraping for Each Skin's URLs"
   ]
  },
  {
   "cell_type": "code",
   "execution_count": 621,
   "metadata": {},
   "outputs": [],
   "source": [
    "# Create beautiful soup object to examine the source code\n",
    "res = requests.get('https://teemo.gg/model-viewer')\n",
    "res.raise_for_status()\n",
    "ModelSoup = bs4.BeautifulSoup(res.text)"
   ]
  },
  {
   "cell_type": "code",
   "execution_count": 622,
   "metadata": {},
   "outputs": [],
   "source": [
    "# Functions for Scraping the URL and Name\n",
    "def scrape_model_url(str):\n",
    "    url_result = re.search(\"'id': '(.*)',\", str)\n",
    "    if url_result:\n",
    "        url = url_result.group(1)\n",
    "        return url\n",
    "    else: \n",
    "        return \"No Match\"\n",
    "\n",
    "def scrape_model_name(str):\n",
    "    name_result = re.search(\"'name': \\\"(.*)\\\"\", str)\n",
    "    if name_result:\n",
    "        name = name_result.group(1)\n",
    "        return name\n",
    "    else: \n",
    "        return \"No Match\""
   ]
  },
  {
   "cell_type": "code",
   "execution_count": 620,
   "metadata": {
    "scrolled": true
   },
   "outputs": [
    {
     "name": "stdout",
     "output_type": "stream",
     "text": [
      "Done Scraping Champion Skin Information, Last Skin is Dragon Sorceress Zyra (zyra-4)\n"
     ]
    }
   ],
   "source": [
    "# Get List of Skins/Chromas and the corresponding URL\n",
    "skins_html = ModelSoup.findAll('script')\n",
    "skins_champs = skins_html[9].getText() # contains the dictionary of champions and skins\n",
    "skins_champs = skins_champs.split(';')\n",
    "skins_champs.pop(0) # remove the first index which does not contain champ/skin info\n",
    "\n",
    "# Create Dictionary of URL and Skin Name\n",
    "skin_dict = {}\n",
    "for skin in skins:\n",
    "    splited =skin.split(\"},{\") # would split by \",\", but some names have a comma\n",
    "    for split in splited:\n",
    "        url = scrape_model_url(split)\n",
    "        name = scrape_model_name(split)\n",
    "        if url == \"No Match\" or name == \"No Match\":\n",
    "            break\n",
    "        else:\n",
    "            skin_dict[url] = name\n",
    "            prev_name = name\n",
    "            prev_url = url\n",
    "    if url == \"No Match\" or name == \"No Match\":\n",
    "            print(\"Done Scraping Champion Skin Information, Last Skin is \" + prev_name + \" (\" + prev_url + \")\" )\n",
    "            break\n",
    "\n",
    "# View Keys,Values in Dictionary\n",
    "# for k,v in skin_dict.items():\n",
    "#     print(k,v)"
   ]
  },
  {
   "cell_type": "markdown",
   "metadata": {},
   "source": [
    "## Navigating to the Various Pages\n"
   ]
  },
  {
   "cell_type": "code",
   "execution_count": null,
   "metadata": {},
   "outputs": [],
   "source": [
    "#navigate to a specific champ's model viewer page\n",
    "for champ in champs:\n",
    "    for i in range(0,6):\n",
    "        url = 'https://teemo.gg/model-viewer?skinid=' + 'URL_TBD' + '&model-type=champions"
   ]
  }
 ],
 "metadata": {
  "kernelspec": {
   "display_name": "Python 3",
   "language": "python",
   "name": "python3"
  },
  "language_info": {
   "codemirror_mode": {
    "name": "ipython",
    "version": 3
   },
   "file_extension": ".py",
   "mimetype": "text/x-python",
   "name": "python",
   "nbconvert_exporter": "python",
   "pygments_lexer": "ipython3",
   "version": "3.7.3"
  },
  "toc": {
   "base_numbering": 1,
   "nav_menu": {},
   "number_sections": true,
   "sideBar": true,
   "skip_h1_title": false,
   "title_cell": "Table of Contents",
   "title_sidebar": "Contents",
   "toc_cell": false,
   "toc_position": {},
   "toc_section_display": true,
   "toc_window_display": false
  }
 },
 "nbformat": 4,
 "nbformat_minor": 2
}
