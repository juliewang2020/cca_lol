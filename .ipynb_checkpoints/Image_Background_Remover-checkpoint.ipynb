{
 "cells": [
  {
   "cell_type": "markdown",
   "metadata": {},
   "source": [
    "## Packages"
   ]
  },
  {
   "cell_type": "code",
   "execution_count": 2,
   "metadata": {},
   "outputs": [],
   "source": [
    "import os"
   ]
  },
  {
   "cell_type": "markdown",
   "metadata": {},
   "source": [
    "## Remove the Background"
   ]
  },
  {
   "cell_type": "code",
   "execution_count": 4,
   "metadata": {},
   "outputs": [
    {
     "name": "stderr",
     "output_type": "stream",
     "text": [
      "[WDM] - Cache is valid for [23/06/2020]\n",
      "[WDM] - Looking for [chromedriver 83.0.4103.39 win32] driver in cache \n",
      "[WDM] - Driver found in cache [C:\\Users\\jawang2\\.wdm\\drivers\\chromedriver\\83.0.4103.39\\win32\\chromedriver.exe]\n"
     ]
    },
    {
     "name": "stdout",
     "output_type": "stream",
     "text": [
      "Directory changed to: C:\\Users\\jawang2\\Documents\\GitHub\\cca_lol\n",
      " \n",
      "Done Screenshotting: background\n"
     ]
    },
    {
     "ename": "NameError",
     "evalue": "name 'Image' is not defined",
     "output_type": "error",
     "traceback": [
      "\u001b[1;31m---------------------------------------------------------------------------\u001b[0m",
      "\u001b[1;31mNameError\u001b[0m                                 Traceback (most recent call last)",
      "\u001b[1;32m<ipython-input-4-173e286743a8>\u001b[0m in \u001b[0;36m<module>\u001b[1;34m\u001b[0m\n\u001b[0;32m     33\u001b[0m     \u001b[0mpath\u001b[0m \u001b[1;33m=\u001b[0m \u001b[0mos\u001b[0m\u001b[1;33m.\u001b[0m\u001b[0mpath\u001b[0m\u001b[1;33m.\u001b[0m\u001b[0mjoin\u001b[0m\u001b[1;33m(\u001b[0m\u001b[0mdirectory\u001b[0m\u001b[1;33m,\u001b[0m \u001b[0mfilename\u001b[0m\u001b[1;33m)\u001b[0m\u001b[1;33m\u001b[0m\u001b[1;33m\u001b[0m\u001b[0m\n\u001b[0;32m     34\u001b[0m \u001b[1;33m\u001b[0m\u001b[0m\n\u001b[1;32m---> 35\u001b[1;33m     \u001b[0mim\u001b[0m \u001b[1;33m=\u001b[0m \u001b[0mImage\u001b[0m\u001b[1;33m.\u001b[0m\u001b[0mopen\u001b[0m\u001b[1;33m(\u001b[0m\u001b[0mpath\u001b[0m\u001b[1;33m)\u001b[0m\u001b[1;33m\u001b[0m\u001b[1;33m\u001b[0m\u001b[0m\n\u001b[0m\u001b[0;32m     36\u001b[0m \u001b[1;33m\u001b[0m\u001b[0m\n\u001b[0;32m     37\u001b[0m     \u001b[1;31m# Setting the points for cropped image\u001b[0m\u001b[1;33m\u001b[0m\u001b[1;33m\u001b[0m\u001b[1;33m\u001b[0m\u001b[0m\n",
      "\u001b[1;31mNameError\u001b[0m: name 'Image' is not defined"
     ]
    }
   ],
   "source": [
    "# Get Plain Background \n",
    "from selenium import webdriver\n",
    "from webdriver_manager.chrome import ChromeDriverManager\n",
    "import time\n",
    "import os\n",
    "\n",
    "# Change directory to another folder to save all the images\n",
    "os.chdir(r\"C:\\Users\\jawang2\\Documents\\GitHub\\cca_lol\") \n",
    "cwd = os.getcwd() \n",
    "print('Directory changed to: ' + cwd)\n",
    "\n",
    "def screen_capture(url, name):\n",
    "    driver = webdriver.Chrome(ChromeDriverManager().install())\n",
    "    full_url = 'https://teemo.gg/model-viewer?skinid=' + url + '&model-type=champions'\n",
    "    try:\n",
    "        driver.get(full_url)\n",
    "        driver.execute_script('window.scrollTo(0, document.body.scrollHeight);') # get the whole model viewer in view\n",
    "        time.sleep(8) # wait in case the model needs a little bit of time to load\n",
    "        screenshot = driver.save_screenshot(url + '-' + name + '.png')\n",
    "        driver.quit()\n",
    "    except:\n",
    "        print('Could not get: ' + url + ' ' + name )\n",
    "\n",
    "        \n",
    "screen_capture('viktor-4', 'background')\n",
    "print('Done Screenshotting: ' + 'background')\n"
   ]
  },
  {
   "cell_type": "code",
   "execution_count": 10,
   "metadata": {},
   "outputs": [
    {
     "ename": "PermissionError",
     "evalue": "[Errno 13] Permission denied: 'C:\\\\Users\\\\jawang2\\\\Documents\\\\GitHub\\\\cca_lol\\\\.git'",
     "output_type": "error",
     "traceback": [
      "\u001b[1;31m---------------------------------------------------------------------------\u001b[0m",
      "\u001b[1;31mPermissionError\u001b[0m                           Traceback (most recent call last)",
      "\u001b[1;32m<ipython-input-10-8e926c8dd15b>\u001b[0m in \u001b[0;36m<module>\u001b[1;34m\u001b[0m\n\u001b[0;32m      6\u001b[0m     \u001b[0mpath\u001b[0m \u001b[1;33m=\u001b[0m \u001b[0mos\u001b[0m\u001b[1;33m.\u001b[0m\u001b[0mpath\u001b[0m\u001b[1;33m.\u001b[0m\u001b[0mjoin\u001b[0m\u001b[1;33m(\u001b[0m\u001b[0mdirectory\u001b[0m\u001b[1;33m,\u001b[0m \u001b[0mfilename\u001b[0m\u001b[1;33m)\u001b[0m\u001b[1;33m\u001b[0m\u001b[1;33m\u001b[0m\u001b[0m\n\u001b[0;32m      7\u001b[0m \u001b[1;33m\u001b[0m\u001b[0m\n\u001b[1;32m----> 8\u001b[1;33m     \u001b[0mim\u001b[0m \u001b[1;33m=\u001b[0m \u001b[0mImage\u001b[0m\u001b[1;33m.\u001b[0m\u001b[0mopen\u001b[0m\u001b[1;33m(\u001b[0m\u001b[0mpath\u001b[0m\u001b[1;33m)\u001b[0m\u001b[1;33m\u001b[0m\u001b[1;33m\u001b[0m\u001b[0m\n\u001b[0m\u001b[0;32m      9\u001b[0m \u001b[1;33m\u001b[0m\u001b[0m\n\u001b[0;32m     10\u001b[0m     \u001b[1;31m# Setting the points for cropped image\u001b[0m\u001b[1;33m\u001b[0m\u001b[1;33m\u001b[0m\u001b[1;33m\u001b[0m\u001b[0m\n",
      "\u001b[1;32mC:\\ProgramData\\Anaconda3\\lib\\site-packages\\PIL\\Image.py\u001b[0m in \u001b[0;36mopen\u001b[1;34m(fp, mode)\u001b[0m\n\u001b[0;32m   2632\u001b[0m \u001b[1;33m\u001b[0m\u001b[0m\n\u001b[0;32m   2633\u001b[0m     \u001b[1;32mif\u001b[0m \u001b[0mfilename\u001b[0m\u001b[1;33m:\u001b[0m\u001b[1;33m\u001b[0m\u001b[1;33m\u001b[0m\u001b[0m\n\u001b[1;32m-> 2634\u001b[1;33m         \u001b[0mfp\u001b[0m \u001b[1;33m=\u001b[0m \u001b[0mbuiltins\u001b[0m\u001b[1;33m.\u001b[0m\u001b[0mopen\u001b[0m\u001b[1;33m(\u001b[0m\u001b[0mfilename\u001b[0m\u001b[1;33m,\u001b[0m \u001b[1;34m\"rb\"\u001b[0m\u001b[1;33m)\u001b[0m\u001b[1;33m\u001b[0m\u001b[1;33m\u001b[0m\u001b[0m\n\u001b[0m\u001b[0;32m   2635\u001b[0m         \u001b[0mexclusive_fp\u001b[0m \u001b[1;33m=\u001b[0m \u001b[1;32mTrue\u001b[0m\u001b[1;33m\u001b[0m\u001b[1;33m\u001b[0m\u001b[0m\n\u001b[0;32m   2636\u001b[0m \u001b[1;33m\u001b[0m\u001b[0m\n",
      "\u001b[1;31mPermissionError\u001b[0m: [Errno 13] Permission denied: 'C:\\\\Users\\\\jawang2\\\\Documents\\\\GitHub\\\\cca_lol\\\\.git'"
     ]
    }
   ],
   "source": [
    "# Crop all the images to just the model viewer\n",
    "from PIL import Image \n",
    "os.chdir(r\"C:\\Users\\jawang2\\Documents\") \n",
    "directory = cwd\n",
    "for filename in os.listdir(directory):\n",
    "    path = os.path.join(directory, filename)\n",
    "\n",
    "    im = Image.open(path) \n",
    "\n",
    "    # Setting the points for cropped image \n",
    "    left = 200\n",
    "    top = 200\n",
    "    right = 1260\n",
    "    bottom = 728\n",
    "\n",
    "    # Cropped image\n",
    "    im1 = im.crop((left, top, right, bottom)) \n",
    "\n",
    "    # Save the cropped image\n",
    "    im1.save(filename) "
   ]
  },
  {
   "cell_type": "code",
   "execution_count": 4,
   "metadata": {},
   "outputs": [
    {
     "name": "stdout",
     "output_type": "stream",
     "text": [
      "Directory changed to: C:\\Users\\jawang2\\Documents\\GitHub\\cca_lol\\test\n"
     ]
    }
   ],
   "source": [
    "# Change directory to folder with cropped images\n",
    "os.chdir(r\"C:\\Users\\jawang2\\Documents\\GitHub\\cca_lol\\test\") \n",
    "cwd = os.getcwd() \n",
    "print('Directory changed to: ' + cwd)"
   ]
  },
  {
   "cell_type": "code",
   "execution_count": 5,
   "metadata": {},
   "outputs": [
    {
     "name": "stdout",
     "output_type": "stream",
     "text": [
      "aatrox-0-Default_Aatrox.png\n",
      "ahri-10-Popstar_Ahri_Chroma_4.png\n",
      "aphelios-1-Nightbringer_Aphelios_Chroma_1.png\n",
      "ekko-14-Trick_or_Treat_Ekko_Chroma_3.png\n",
      "jayce-13-Battle_Academia_Jayce_Chroma_9.png\n",
      "malzahar-0-Default_Malzahar.png\n",
      "poppy-3-Blacksmith_Poppy.png\n",
      "rengar-19-Pretty_Kitty_Rengar_Chroma_5.png\n",
      "soraka-1-Dryad_Soraka.png\n",
      "syndra-3-Queen_of_Diamonds_Syndra.png\n",
      "taliyah-1-Freljord_Taliyah.png\n",
      "taric-0-Default_Taric.png\n",
      "teemo-11-Cottontail_Teemo_Chroma_4.png\n",
      "teemo-20-Beemo_Chroma_3.png\n",
      "thresh-14-Pulsefire_Thresh_Prestige_Edition.png\n",
      "tristana-28-Little_Demon_Tristana_Chroma_5.png\n"
     ]
    }
   ],
   "source": [
    "for filename in os.listdir(cwd):\n",
    "    print(filename)"
   ]
  },
  {
   "cell_type": "code",
   "execution_count": 13,
   "metadata": {
    "scrolled": true
   },
   "outputs": [],
   "source": [
    "from skimage import io as skio\n",
    "from skimage import filters"
   ]
  },
  {
   "cell_type": "code",
   "execution_count": 44,
   "metadata": {},
   "outputs": [],
   "source": [
    "# https://www.remove.bg/profile#credits-plan\n",
    "# Requires \"requests\" to be installed (see python-requests.org)\n",
    "# import requests\n",
    "\n",
    "# response = requests.post(\n",
    "#     'https://api.remove.bg/v1.0/removebg',\n",
    "#     files={'image_file': open('aatrox-0-Default_Aatrox.png', 'rb')},\n",
    "#     data={'size': 'auto'},\n",
    "#     headers={'X-Api-Key': 'cj4xuzattc3itq4yyBkUKwpm'},\n",
    "# )\n",
    "# if response.status_code == requests.codes.ok:\n",
    "#     with open('no-bg.png', 'wb') as out:\n",
    "#         out.write(response.content)\n",
    "# else:\n",
    "#     print(\"Error:\", response.status_code, response.text)"
   ]
  },
  {
   "cell_type": "code",
   "execution_count": 49,
   "metadata": {},
   "outputs": [
    {
     "data": {
      "text/plain": [
       "-1"
      ]
     },
     "execution_count": 49,
     "metadata": {},
     "output_type": "execute_result"
    }
   ],
   "source": [
    "# https://stackoverflow.com/questions/60033008/remove-image-background-and-extract-the-object-in-image\n",
    "import cv2\n",
    "import numpy as np\n",
    "\n",
    "# Load image, convert to grayscale, Gaussian blur, Otsu's threshold\n",
    "image = cv2.imread('aatrox-0-Default_Aatrox.png')\n",
    "original = image.copy()\n",
    "gray = cv2.cvtColor(image, cv2.COLOR_BGR2GRAY)\n",
    "blur = cv2.GaussianBlur(gray, (3,3), 0)\n",
    "thresh = cv2.threshold(blur, 0, 255, cv2.THRESH_BINARY_INV + cv2.THRESH_OTSU)[1]\n",
    "\n",
    "# Obtain bounding rectangle and extract ROI\n",
    "x,y,w,h = cv2.boundingRect(thresh)\n",
    "cv2.rectangle(image, (x, y), (x + w, y + h), (36,255,12), 2)\n",
    "ROI = original[y:y+h, x:x+w]\n",
    "\n",
    "# Add alpha channel\n",
    "b,g,r = cv2.split(ROI)\n",
    "alpha = np.ones(b.shape, dtype=b.dtype) * 50\n",
    "ROI = cv2.merge([b,g,r,alpha])\n",
    "\n",
    "cv2.imshow('thresh', thresh)\n",
    "cv2.imshow('image', image)\n",
    "cv2.imshow('ROI', ROI)\n",
    "cv2.waitKey()"
   ]
  },
  {
   "cell_type": "code",
   "execution_count": 55,
   "metadata": {
    "scrolled": true
   },
   "outputs": [
    {
     "data": {
      "image/png": "[encoded data removed]",
      "text/plain": [
       "<Figure size 432x288 with 1 Axes>"
      ]
     },
     "metadata": {
      "needs_background": "light"
     },
     "output_type": "display_data"
    }
   ],
   "source": [
    "# Load image\n",
    "image_bgr = cv2.imread('aatrox-0-Default_Aatrox.png')\n",
    "# Convert to RGB\n",
    "image_rgb = cv2.cvtColor(image_bgr, cv2.COLOR_BGR2RGB)\n",
    "# Rectange values: start x, start y, width, height\n",
    "rectangle = (0, 56, 256, 150)\n",
    "# Create initial mask\n",
    "mask = np.zeros(image_rgb.shape[:2], np.uint8)\n",
    "\n",
    "# Create temporary arrays used by grabCut\n",
    "bgdModel = np.zeros((1, 65), np.float64)\n",
    "fgdModel = np.zeros((1, 65), np.float64)\n",
    "\n",
    "# Run grabCut\n",
    "cv2.grabCut(image_rgb, # Our image\n",
    "            mask, # The Mask\n",
    "            rectangle, # Our rectangle\n",
    "            bgdModel, # Temporary array for background\n",
    "            fgdModel, # Temporary array for background\n",
    "            5, # Number of iterations\n",
    "            cv2.GC_INIT_WITH_RECT) # Initiative using our rectangle\n",
    "\n",
    "# Create mask where sure and likely backgrounds set to 0, otherwise 1\n",
    "mask_2 = np.where((mask==2) | (mask==0), 0, 1).astype('uint8')\n",
    "\n",
    "# Multiply image with new mask to subtract background\n",
    "image_rgb_nobg = image_rgb * mask_2[:, :, np.newaxis]\n",
    "# Show image\n",
    "plt.imshow(image_rgb_nobg), plt.axis(\"off\")\n",
    "plt.show()"
   ]
  },
  {
   "cell_type": "code",
   "execution_count": 61,
   "metadata": {},
   "outputs": [],
   "source": [
    "# https://docs.opencv.org/3.4/d1/dc5/tutorial_background_subtraction.html\n",
    "# - grab screenshot of teemo.gg canvas in same size as the images\n",
    "# - use background subtraction to create foreground mask!!!!!\n",
    "# - crop image doing that"
   ]
  },
  {
   "cell_type": "code",
   "execution_count": null,
   "metadata": {},
   "outputs": [],
   "source": []
  }
 ],
 "metadata": {
  "kernelspec": {
   "display_name": "Python 3",
   "language": "python",
   "name": "python3"
  },
  "language_info": {
   "codemirror_mode": {
    "name": "ipython",
    "version": 3
   },
   "file_extension": ".py",
   "mimetype": "text/x-python",
   "name": "python",
   "nbconvert_exporter": "python",
   "pygments_lexer": "ipython3",
   "version": "3.7.3"
  },
  "toc": {
   "base_numbering": 1,
   "nav_menu": {},
   "number_sections": true,
   "sideBar": true,
   "skip_h1_title": false,
   "title_cell": "Table of Contents",
   "title_sidebar": "Contents",
   "toc_cell": false,
   "toc_position": {},
   "toc_section_display": true,
   "toc_window_display": false
  }
 },
 "nbformat": 4,
 "nbformat_minor": 2
}
