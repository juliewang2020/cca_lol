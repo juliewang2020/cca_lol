{
 "cells": [
  {
   "cell_type": "markdown",
   "metadata": {},
   "source": [
    "## Packages"
   ]
  },
  {
   "cell_type": "code",
   "execution_count": 26,
   "metadata": {},
   "outputs": [],
   "source": [
    "import os"
   ]
  },
  {
   "cell_type": "markdown",
   "metadata": {},
   "source": [
    "## Remove the Background"
   ]
  },
  {
   "cell_type": "code",
   "execution_count": 30,
   "metadata": {},
   "outputs": [
    {
     "name": "stdout",
     "output_type": "stream",
     "text": [
      "Directory changed to: C:\\Users\\jawang2\\Documents\\GitHub\\cca_lol\\test\n"
     ]
    }
   ],
   "source": [
    "# Change directory to folder with cropped images\n",
    "os.chdir(r\"C:\\Users\\jawang2\\Documents\\GitHub\\cca_lol\\test\") \n",
    "cwd = os.getcwd() \n",
    "print('Directory changed to: ' + cwd)"
   ]
  },
  {
   "cell_type": "code",
   "execution_count": 32,
   "metadata": {},
   "outputs": [
    {
     "name": "stdout",
     "output_type": "stream",
     "text": [
      "aatrox-0-Default_Aatrox.png\n",
      "ahri-10-Popstar_Ahri_Chroma_4.png\n",
      "aphelios-1-Nightbringer_Aphelios_Chroma_1.png\n",
      "background.png\n",
      "ekko-14-Trick_or_Treat_Ekko_Chroma_3.png\n",
      "jayce-13-Battle_Academia_Jayce_Chroma_9.png\n",
      "malzahar-0-Default_Malzahar.png\n",
      "no-bg.png\n",
      "poppy-3-Blacksmith_Poppy.png\n",
      "rengar-19-Pretty_Kitty_Rengar_Chroma_5.png\n",
      "soraka-1-Dryad_Soraka.png\n",
      "syndra-3-Queen_of_Diamonds_Syndra.png\n",
      "taliyah-1-Freljord_Taliyah.png\n",
      "taric-0-Default_Taric.png\n",
      "teemo-11-Cottontail_Teemo_Chroma_4.png\n",
      "teemo-20-Beemo_Chroma_3.png\n",
      "thresh-14-Pulsefire_Thresh_Prestige_Edition.png\n",
      "tristana-28-Little_Demon_Tristana_Chroma_5.png\n"
     ]
    }
   ],
   "source": [
    "for filename in os.listdir(cwd):\n",
    "    print(filename)"
   ]
  },
  {
   "cell_type": "code",
   "execution_count": 61,
   "metadata": {},
   "outputs": [],
   "source": [
    "# https://docs.opencv.org/3.4/d1/dc5/tutorial_background_subtraction.html\n",
    "# - grab screenshot of teemo.gg canvas in same size as the images\n",
    "# - use background subtraction to create foreground mask!!!!!\n",
    "# - crop image doing that"
   ]
  },
  {
   "cell_type": "code",
   "execution_count": 50,
   "metadata": {},
   "outputs": [
    {
     "name": "stderr",
     "output_type": "stream",
     "text": [
      "Could not import submodules (exact error was: DLL load failed: The specified module could not be found.).\n",
      "\n",
      "There are many reasons for this error the most common one is that you have\n",
      "either not built the packages or have built (using `python setup.py build`) or\n",
      "installed them (using `python setup.py install`) and then proceeded to test\n",
      "mahotas **without changing the current directory**.\n",
      "\n",
      "Try installing and then changing to another directory before importing mahotas.\n"
     ]
    },
    {
     "ename": "AttributeError",
     "evalue": "module 'mahotas' has no attribute 'imsave'",
     "output_type": "error",
     "traceback": [
      "\u001b[1;31m---------------------------------------------------------------------------\u001b[0m",
      "\u001b[1;31mAttributeError\u001b[0m                            Traceback (most recent call last)",
      "\u001b[1;32m<ipython-input-50-e0fec384c1fd>\u001b[0m in \u001b[0;36m<module>\u001b[1;34m\u001b[0m\n\u001b[0;32m     26\u001b[0m \u001b[0mcv2\u001b[0m\u001b[1;33m.\u001b[0m\u001b[0mwaitKey\u001b[0m\u001b[1;33m(\u001b[0m\u001b[1;36m0\u001b[0m\u001b[1;33m)\u001b[0m\u001b[1;33m\u001b[0m\u001b[1;33m\u001b[0m\u001b[0m\n\u001b[0;32m     27\u001b[0m \u001b[0mcv2\u001b[0m\u001b[1;33m.\u001b[0m\u001b[0mdestroyAllWindows\u001b[0m\u001b[1;33m(\u001b[0m\u001b[1;33m)\u001b[0m\u001b[1;33m\u001b[0m\u001b[1;33m\u001b[0m\u001b[0m\n\u001b[1;32m---> 28\u001b[1;33m \u001b[0mmahotas\u001b[0m\u001b[1;33m.\u001b[0m\u001b[0mimsave\u001b[0m\u001b[1;33m(\u001b[0m\u001b[1;34m'test_ouput'\u001b[0m\u001b[1;33m,\u001b[0m \u001b[0moutput\u001b[0m\u001b[1;33m)\u001b[0m\u001b[1;33m\u001b[0m\u001b[1;33m\u001b[0m\u001b[0m\n\u001b[0m",
      "\u001b[1;31mAttributeError\u001b[0m: module 'mahotas' has no attribute 'imsave'"
     ]
    }
   ],
   "source": [
    "#https://stackoverflow.com/questions/58938398/how-to-remove-background-from-an-image-subtraction\n",
    "import cv2\n",
    "import mahotas\n",
    "\n",
    "# Read images from files\n",
    "img_bg = cv2.cvtColor(cv2.imread('background.png'), cv2.COLOR_RGB2BGR)\n",
    "img = cv2.cvtColor(cv2.imread('aatrox-0-Default_Aatrox.png'), cv2.COLOR_RGB2BGR)\n",
    "\n",
    "# Set up and feed background subtractor (cf. tutorial linked in question)\n",
    "backSub = cv2.createBackgroundSubtractorMOG2()\n",
    "_ = backSub.apply(img_bg)\n",
    "mask = backSub.apply(img)\n",
    "\n",
    "# # Morphological opening and closing to improve mask\n",
    "# mask_morph = cv2.morphologyEx(mask, cv2.MORPH_OPEN, cv2.getStructuringElement(cv2.MORPH_ELLIPSE, (21, 21)))\n",
    "# mask_morph = cv2.morphologyEx(mask_morph, cv2.MORPH_CLOSE, cv2.getStructuringElement(cv2.MORPH_ELLIPSE, (21, 21)))\n",
    "\n",
    "# Generate output\n",
    "output = cv2.bitwise_and(img, img, None, mask)\n",
    "\n",
    "# Visualization\n",
    "cv2.imshow('img', img)\n",
    "cv2.imshow('mask', mask)\n",
    "# cv2.imshow('mask_morph', mask_morph)\n",
    "cv2.imshow('output', output)\n",
    "cv2.waitKey(0)\n",
    "cv2.destroyAllWindows()"
   ]
  },
  {
   "cell_type": "code",
   "execution_count": 52,
   "metadata": {},
   "outputs": [
    {
     "data": {
      "text/plain": [
       "True"
      ]
     },
     "execution_count": 52,
     "metadata": {},
     "output_type": "execute_result"
    }
   ],
   "source": [
    "# https://stackoverflow.com/questions/40527769/removing-black-background-and-make-transparent-from-grabcut-output-in-python-ope\n",
    "# Make output background transparent\n",
    "tmp = cv2.cvtColor(output, cv2.COLOR_BGR2GRAY)\n",
    "_,alpha = cv2.threshold(tmp,0,255,cv2.THRESH_BINARY)\n",
    "b, g, r = cv2.split(output)\n",
    "rgba = [b,g,r, alpha]\n",
    "dst = cv2.merge(rgba,4)\n",
    "cv2.imwrite(\"test.png\", dst)"
   ]
  },
  {
   "cell_type": "code",
   "execution_count": 56,
   "metadata": {},
   "outputs": [
    {
     "ename": "TypeError",
     "evalue": "'int' object is not subscriptable",
     "output_type": "error",
     "traceback": [
      "\u001b[1;31m---------------------------------------------------------------------------\u001b[0m",
      "\u001b[1;31mTypeError\u001b[0m                                 Traceback (most recent call last)",
      "\u001b[1;32m<ipython-input-56-4672e04e9117>\u001b[0m in \u001b[0;36m<module>\u001b[1;34m\u001b[0m\n\u001b[0;32m      1\u001b[0m \u001b[0mpixels\u001b[0m \u001b[1;33m=\u001b[0m \u001b[1;34m\"test.png\"\u001b[0m \u001b[1;31m# create the pixel map\u001b[0m\u001b[1;33m\u001b[0m\u001b[1;33m\u001b[0m\u001b[0m\n\u001b[0;32m      2\u001b[0m \u001b[1;33m\u001b[0m\u001b[0m\n\u001b[1;32m----> 3\u001b[1;33m \u001b[1;32mfor\u001b[0m \u001b[0mi\u001b[0m \u001b[1;32min\u001b[0m \u001b[0mrange\u001b[0m\u001b[1;33m(\u001b[0m\u001b[0mimg\u001b[0m\u001b[1;33m.\u001b[0m\u001b[0msize\u001b[0m\u001b[1;33m[\u001b[0m\u001b[1;36m1\u001b[0m\u001b[1;33m]\u001b[0m\u001b[1;33m)\u001b[0m\u001b[1;33m:\u001b[0m \u001b[1;31m# for every pixel:\u001b[0m\u001b[1;33m\u001b[0m\u001b[1;33m\u001b[0m\u001b[0m\n\u001b[0m\u001b[0;32m      4\u001b[0m     \u001b[1;32mfor\u001b[0m \u001b[0mj\u001b[0m \u001b[1;32min\u001b[0m \u001b[0mrange\u001b[0m\u001b[1;33m(\u001b[0m\u001b[0mimg\u001b[0m\u001b[1;33m.\u001b[0m\u001b[0msize\u001b[0m\u001b[1;33m[\u001b[0m\u001b[1;36m0\u001b[0m\u001b[1;33m]\u001b[0m\u001b[1;33m)\u001b[0m\u001b[1;33m:\u001b[0m\u001b[1;33m\u001b[0m\u001b[1;33m\u001b[0m\u001b[0m\n\u001b[0;32m      5\u001b[0m         \u001b[1;32mif\u001b[0m \u001b[0mpixels\u001b[0m\u001b[1;33m[\u001b[0m\u001b[0mi\u001b[0m\u001b[1;33m,\u001b[0m\u001b[0mj\u001b[0m\u001b[1;33m]\u001b[0m \u001b[1;33m==\u001b[0m \u001b[1;33m(\u001b[0m\u001b[1;36m139\u001b[0m\u001b[1;33m,\u001b[0m \u001b[1;36m68\u001b[0m\u001b[1;33m,\u001b[0m \u001b[1;36m80\u001b[0m\u001b[1;33m)\u001b[0m\u001b[1;33m:\u001b[0m\u001b[1;33m\u001b[0m\u001b[1;33m\u001b[0m\u001b[0m\n",
      "\u001b[1;31mTypeError\u001b[0m: 'int' object is not subscriptable"
     ]
    }
   ],
   "source": [
    "#Trying to remove the red outline\n",
    "\n",
    "pixels = \"test.png\" # create the pixel map\n",
    "\n",
    "for i in range(img.size[1]): # for every pixel:\n",
    "    for j in range(img.size[0]):\n",
    "        if pixels[i,j] == (139, 68, 80):\n",
    "            # change to black if this pink color\n",
    "            pixels[i,j] = (0, 0 ,0)"
   ]
  }
 ],
 "metadata": {
  "kernelspec": {
   "display_name": "Python 3",
   "language": "python",
   "name": "python3"
  },
  "language_info": {
   "codemirror_mode": {
    "name": "ipython",
    "version": 3
   },
   "file_extension": ".py",
   "mimetype": "text/x-python",
   "name": "python",
   "nbconvert_exporter": "python",
   "pygments_lexer": "ipython3",
   "version": "3.7.3"
  },
  "toc": {
   "base_numbering": 1,
   "nav_menu": {},
   "number_sections": true,
   "sideBar": true,
   "skip_h1_title": false,
   "title_cell": "Table of Contents",
   "title_sidebar": "Contents",
   "toc_cell": false,
   "toc_position": {},
   "toc_section_display": true,
   "toc_window_display": false
  }
 },
 "nbformat": 4,
 "nbformat_minor": 2
}
