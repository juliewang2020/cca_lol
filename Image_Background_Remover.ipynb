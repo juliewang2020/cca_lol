{
 "cells": [
  {
   "cell_type": "markdown",
   "metadata": {},
   "source": [
    "## Packages"
   ]
  },
  {
   "cell_type": "code",
   "execution_count": 2,
   "metadata": {},
   "outputs": [],
   "source": [
    "import os"
   ]
  },
  {
   "cell_type": "markdown",
   "metadata": {},
   "source": [
    "## Remove the Background"
   ]
  },
  {
   "cell_type": "code",
   "execution_count": 18,
   "metadata": {},
   "outputs": [
    {
     "name": "stdout",
     "output_type": "stream",
     "text": [
      "Directory changed to: C:\\Users\\jawang2\\Documents\\GitHub\\cca_lol\\test\n"
     ]
    }
   ],
   "source": [
    "# Change directory to folder with cropped images\n",
    "os.chdir(r\"C:\\Users\\jawang2\\Documents\\GitHub\\cca_lol\\test\") \n",
    "cwd = os.getcwd() \n",
    "print('Directory changed to: ' + cwd)"
   ]
  },
  {
   "cell_type": "code",
   "execution_count": 5,
   "metadata": {},
   "outputs": [
    {
     "name": "stdout",
     "output_type": "stream",
     "text": [
      "aatrox-0-Default_Aatrox.png\n",
      "ahri-10-Popstar_Ahri_Chroma_4.png\n",
      "aphelios-1-Nightbringer_Aphelios_Chroma_1.png\n",
      "ekko-14-Trick_or_Treat_Ekko_Chroma_3.png\n",
      "jayce-13-Battle_Academia_Jayce_Chroma_9.png\n",
      "malzahar-0-Default_Malzahar.png\n",
      "poppy-3-Blacksmith_Poppy.png\n",
      "rengar-19-Pretty_Kitty_Rengar_Chroma_5.png\n",
      "soraka-1-Dryad_Soraka.png\n",
      "syndra-3-Queen_of_Diamonds_Syndra.png\n",
      "taliyah-1-Freljord_Taliyah.png\n",
      "taric-0-Default_Taric.png\n",
      "teemo-11-Cottontail_Teemo_Chroma_4.png\n",
      "teemo-20-Beemo_Chroma_3.png\n",
      "thresh-14-Pulsefire_Thresh_Prestige_Edition.png\n",
      "tristana-28-Little_Demon_Tristana_Chroma_5.png\n"
     ]
    }
   ],
   "source": [
    "for filename in os.listdir(cwd):\n",
    "    print(filename)"
   ]
  },
  {
   "cell_type": "code",
   "execution_count": 13,
   "metadata": {
    "scrolled": true
   },
   "outputs": [],
   "source": [
    "from skimage import io as skio\n",
    "from skimage import filters"
   ]
  },
  {
   "cell_type": "code",
   "execution_count": 44,
   "metadata": {},
   "outputs": [],
   "source": [
    "# https://www.remove.bg/profile#credits-plan\n",
    "# Requires \"requests\" to be installed (see python-requests.org)\n",
    "# import requests\n",
    "\n",
    "# response = requests.post(\n",
    "#     'https://api.remove.bg/v1.0/removebg',\n",
    "#     files={'image_file': open('aatrox-0-Default_Aatrox.png', 'rb')},\n",
    "#     data={'size': 'auto'},\n",
    "#     headers={'X-Api-Key': 'cj4xuzattc3itq4yyBkUKwpm'},\n",
    "# )\n",
    "# if response.status_code == requests.codes.ok:\n",
    "#     with open('no-bg.png', 'wb') as out:\n",
    "#         out.write(response.content)\n",
    "# else:\n",
    "#     print(\"Error:\", response.status_code, response.text)"
   ]
  },
  {
   "cell_type": "code",
   "execution_count": 49,
   "metadata": {},
   "outputs": [
    {
     "data": {
      "text/plain": [
       "-1"
      ]
     },
     "execution_count": 49,
     "metadata": {},
     "output_type": "execute_result"
    }
   ],
   "source": [
    "# https://stackoverflow.com/questions/60033008/remove-image-background-and-extract-the-object-in-image\n",
    "import cv2\n",
    "import numpy as np\n",
    "\n",
    "# Load image, convert to grayscale, Gaussian blur, Otsu's threshold\n",
    "image = cv2.imread('aatrox-0-Default_Aatrox.png')\n",
    "original = image.copy()\n",
    "gray = cv2.cvtColor(image, cv2.COLOR_BGR2GRAY)\n",
    "blur = cv2.GaussianBlur(gray, (3,3), 0)\n",
    "thresh = cv2.threshold(blur, 0, 255, cv2.THRESH_BINARY_INV + cv2.THRESH_OTSU)[1]\n",
    "\n",
    "# Obtain bounding rectangle and extract ROI\n",
    "x,y,w,h = cv2.boundingRect(thresh)\n",
    "cv2.rectangle(image, (x, y), (x + w, y + h), (36,255,12), 2)\n",
    "ROI = original[y:y+h, x:x+w]\n",
    "\n",
    "# Add alpha channel\n",
    "b,g,r = cv2.split(ROI)\n",
    "alpha = np.ones(b.shape, dtype=b.dtype) * 50\n",
    "ROI = cv2.merge([b,g,r,alpha])\n",
    "\n",
    "cv2.imshow('thresh', thresh)\n",
    "cv2.imshow('image', image)\n",
    "cv2.imshow('ROI', ROI)\n",
    "cv2.waitKey()"
   ]
  },
  {
   "cell_type": "code",
   "execution_count": 55,
   "metadata": {
    "scrolled": true
   },
   "outputs": [
    {
     "data": {
      "image/png": "[encoded data removed]",
      "text/plain": [
       "<Figure size 432x288 with 1 Axes>"
      ]
     },
     "metadata": {
      "needs_background": "light"
     },
     "output_type": "display_data"
    }
   ],
   "source": [
    "# Load image\n",
    "image_bgr = cv2.imread('aatrox-0-Default_Aatrox.png')\n",
    "# Convert to RGB\n",
    "image_rgb = cv2.cvtColor(image_bgr, cv2.COLOR_BGR2RGB)\n",
    "# Rectange values: start x, start y, width, height\n",
    "rectangle = (0, 56, 256, 150)\n",
    "# Create initial mask\n",
    "mask = np.zeros(image_rgb.shape[:2], np.uint8)\n",
    "\n",
    "# Create temporary arrays used by grabCut\n",
    "bgdModel = np.zeros((1, 65), np.float64)\n",
    "fgdModel = np.zeros((1, 65), np.float64)\n",
    "\n",
    "# Run grabCut\n",
    "cv2.grabCut(image_rgb, # Our image\n",
    "            mask, # The Mask\n",
    "            rectangle, # Our rectangle\n",
    "            bgdModel, # Temporary array for background\n",
    "            fgdModel, # Temporary array for background\n",
    "            5, # Number of iterations\n",
    "            cv2.GC_INIT_WITH_RECT) # Initiative using our rectangle\n",
    "\n",
    "# Create mask where sure and likely backgrounds set to 0, otherwise 1\n",
    "mask_2 = np.where((mask==2) | (mask==0), 0, 1).astype('uint8')\n",
    "\n",
    "# Multiply image with new mask to subtract background\n",
    "image_rgb_nobg = image_rgb * mask_2[:, :, np.newaxis]\n",
    "# Show image\n",
    "plt.imshow(image_rgb_nobg), plt.axis(\"off\")\n",
    "plt.show()"
   ]
  },
  {
   "cell_type": "code",
   "execution_count": 61,
   "metadata": {},
   "outputs": [],
   "source": [
    "# https://docs.opencv.org/3.4/d1/dc5/tutorial_background_subtraction.html\n",
    "# - grab screenshot of teemo.gg canvas in same size as the images\n",
    "# - use background subtraction to create foreground mask!!!!!\n",
    "# - crop image doing that"
   ]
  },
  {
   "cell_type": "code",
   "execution_count": null,
   "metadata": {},
   "outputs": [],
   "source": []
  }
 ],
 "metadata": {
  "kernelspec": {
   "display_name": "Python 3",
   "language": "python",
   "name": "python3"
  },
  "language_info": {
   "codemirror_mode": {
    "name": "ipython",
    "version": 3
   },
   "file_extension": ".py",
   "mimetype": "text/x-python",
   "name": "python",
   "nbconvert_exporter": "python",
   "pygments_lexer": "ipython3",
   "version": "3.7.3"
  },
  "toc": {
   "base_numbering": 1,
   "nav_menu": {},
   "number_sections": true,
   "sideBar": true,
   "skip_h1_title": false,
   "title_cell": "Table of Contents",
   "title_sidebar": "Contents",
   "toc_cell": false,
   "toc_position": {},
   "toc_section_display": true,
   "toc_window_display": false
  }
 },
 "nbformat": 4,
 "nbformat_minor": 2
}
